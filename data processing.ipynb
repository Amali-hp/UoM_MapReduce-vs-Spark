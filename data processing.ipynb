{
 "cells": [
  {
   "cell_type": "code",
   "execution_count": 1,
   "id": "da83a29a",
   "metadata": {},
   "outputs": [],
   "source": [
    "import pandas as pd\n",
    "import seaborn as sns\n",
    "import matplotlib.pyplot as plt"
   ]
  },
  {
   "cell_type": "markdown",
   "id": "79279da4",
   "metadata": {},
   "source": [
    "#### Loading dataset"
   ]
  },
  {
   "cell_type": "code",
   "execution_count": 2,
   "id": "87842a51",
   "metadata": {},
   "outputs": [
    {
     "data": {
      "text/html": [
       "<div>\n",
       "<style scoped>\n",
       "    .dataframe tbody tr th:only-of-type {\n",
       "        vertical-align: middle;\n",
       "    }\n",
       "\n",
       "    .dataframe tbody tr th {\n",
       "        vertical-align: top;\n",
       "    }\n",
       "\n",
       "    .dataframe thead th {\n",
       "        text-align: right;\n",
       "    }\n",
       "</style>\n",
       "<table border=\"1\" class=\"dataframe\">\n",
       "  <thead>\n",
       "    <tr style=\"text-align: right;\">\n",
       "      <th></th>\n",
       "      <th>Unnamed: 0</th>\n",
       "      <th>Year</th>\n",
       "      <th>Month</th>\n",
       "      <th>DayofMonth</th>\n",
       "      <th>DayOfWeek</th>\n",
       "      <th>DepTime</th>\n",
       "      <th>CRSDepTime</th>\n",
       "      <th>ArrTime</th>\n",
       "      <th>CRSArrTime</th>\n",
       "      <th>UniqueCarrier</th>\n",
       "      <th>...</th>\n",
       "      <th>TaxiIn</th>\n",
       "      <th>TaxiOut</th>\n",
       "      <th>Cancelled</th>\n",
       "      <th>CancellationCode</th>\n",
       "      <th>Diverted</th>\n",
       "      <th>CarrierDelay</th>\n",
       "      <th>WeatherDelay</th>\n",
       "      <th>NASDelay</th>\n",
       "      <th>SecurityDelay</th>\n",
       "      <th>LateAircraftDelay</th>\n",
       "    </tr>\n",
       "  </thead>\n",
       "  <tbody>\n",
       "    <tr>\n",
       "      <th>0</th>\n",
       "      <td>1</td>\n",
       "      <td>2003</td>\n",
       "      <td>6</td>\n",
       "      <td>17</td>\n",
       "      <td>2</td>\n",
       "      <td>1310</td>\n",
       "      <td>1255</td>\n",
       "      <td>1612.0</td>\n",
       "      <td>1615</td>\n",
       "      <td>AA</td>\n",
       "      <td>...</td>\n",
       "      <td>6.0</td>\n",
       "      <td>23</td>\n",
       "      <td>0</td>\n",
       "      <td>N</td>\n",
       "      <td>0</td>\n",
       "      <td>NaN</td>\n",
       "      <td>NaN</td>\n",
       "      <td>NaN</td>\n",
       "      <td>NaN</td>\n",
       "      <td>NaN</td>\n",
       "    </tr>\n",
       "    <tr>\n",
       "      <th>1</th>\n",
       "      <td>2</td>\n",
       "      <td>2003</td>\n",
       "      <td>6</td>\n",
       "      <td>20</td>\n",
       "      <td>5</td>\n",
       "      <td>1303</td>\n",
       "      <td>1255</td>\n",
       "      <td>1623.0</td>\n",
       "      <td>1615</td>\n",
       "      <td>AA</td>\n",
       "      <td>...</td>\n",
       "      <td>11.0</td>\n",
       "      <td>29</td>\n",
       "      <td>0</td>\n",
       "      <td>N</td>\n",
       "      <td>0</td>\n",
       "      <td>NaN</td>\n",
       "      <td>NaN</td>\n",
       "      <td>NaN</td>\n",
       "      <td>NaN</td>\n",
       "      <td>NaN</td>\n",
       "    </tr>\n",
       "    <tr>\n",
       "      <th>2</th>\n",
       "      <td>3</td>\n",
       "      <td>2003</td>\n",
       "      <td>6</td>\n",
       "      <td>22</td>\n",
       "      <td>7</td>\n",
       "      <td>1325</td>\n",
       "      <td>1255</td>\n",
       "      <td>1953.0</td>\n",
       "      <td>1615</td>\n",
       "      <td>AA</td>\n",
       "      <td>...</td>\n",
       "      <td>9.0</td>\n",
       "      <td>206</td>\n",
       "      <td>0</td>\n",
       "      <td>N</td>\n",
       "      <td>0</td>\n",
       "      <td>0.0</td>\n",
       "      <td>0.0</td>\n",
       "      <td>218.0</td>\n",
       "      <td>0.0</td>\n",
       "      <td>0.0</td>\n",
       "    </tr>\n",
       "    <tr>\n",
       "      <th>3</th>\n",
       "      <td>4</td>\n",
       "      <td>2003</td>\n",
       "      <td>6</td>\n",
       "      <td>23</td>\n",
       "      <td>1</td>\n",
       "      <td>1328</td>\n",
       "      <td>1255</td>\n",
       "      <td>1655.0</td>\n",
       "      <td>1615</td>\n",
       "      <td>AA</td>\n",
       "      <td>...</td>\n",
       "      <td>8.0</td>\n",
       "      <td>32</td>\n",
       "      <td>0</td>\n",
       "      <td>N</td>\n",
       "      <td>0</td>\n",
       "      <td>0.0</td>\n",
       "      <td>0.0</td>\n",
       "      <td>40.0</td>\n",
       "      <td>0.0</td>\n",
       "      <td>0.0</td>\n",
       "    </tr>\n",
       "    <tr>\n",
       "      <th>4</th>\n",
       "      <td>5</td>\n",
       "      <td>2003</td>\n",
       "      <td>6</td>\n",
       "      <td>25</td>\n",
       "      <td>3</td>\n",
       "      <td>1307</td>\n",
       "      <td>1255</td>\n",
       "      <td>1620.0</td>\n",
       "      <td>1615</td>\n",
       "      <td>AA</td>\n",
       "      <td>...</td>\n",
       "      <td>12.0</td>\n",
       "      <td>20</td>\n",
       "      <td>0</td>\n",
       "      <td>N</td>\n",
       "      <td>0</td>\n",
       "      <td>NaN</td>\n",
       "      <td>NaN</td>\n",
       "      <td>NaN</td>\n",
       "      <td>NaN</td>\n",
       "      <td>NaN</td>\n",
       "    </tr>\n",
       "  </tbody>\n",
       "</table>\n",
       "<p>5 rows × 30 columns</p>\n",
       "</div>"
      ],
      "text/plain": [
       "   Unnamed: 0  Year  Month  DayofMonth  DayOfWeek  DepTime  CRSDepTime  \\\n",
       "0           1  2003      6          17          2     1310        1255   \n",
       "1           2  2003      6          20          5     1303        1255   \n",
       "2           3  2003      6          22          7     1325        1255   \n",
       "3           4  2003      6          23          1     1328        1255   \n",
       "4           5  2003      6          25          3     1307        1255   \n",
       "\n",
       "   ArrTime  CRSArrTime UniqueCarrier  ...  TaxiIn TaxiOut  Cancelled  \\\n",
       "0   1612.0        1615            AA  ...     6.0      23          0   \n",
       "1   1623.0        1615            AA  ...    11.0      29          0   \n",
       "2   1953.0        1615            AA  ...     9.0     206          0   \n",
       "3   1655.0        1615            AA  ...     8.0      32          0   \n",
       "4   1620.0        1615            AA  ...    12.0      20          0   \n",
       "\n",
       "   CancellationCode  Diverted  CarrierDelay  WeatherDelay NASDelay  \\\n",
       "0                 N         0           NaN           NaN      NaN   \n",
       "1                 N         0           NaN           NaN      NaN   \n",
       "2                 N         0           0.0           0.0    218.0   \n",
       "3                 N         0           0.0           0.0     40.0   \n",
       "4                 N         0           NaN           NaN      NaN   \n",
       "\n",
       "  SecurityDelay  LateAircraftDelay  \n",
       "0           NaN                NaN  \n",
       "1           NaN                NaN  \n",
       "2           0.0                0.0  \n",
       "3           0.0                0.0  \n",
       "4           NaN                NaN  \n",
       "\n",
       "[5 rows x 30 columns]"
      ]
     },
     "execution_count": 2,
     "metadata": {},
     "output_type": "execute_result"
    }
   ],
   "source": [
    "delayed_flight = pd.read_csv(\"C:\\\\Users\\\\amalipe\\\\Downloads\\\\DelayedFlights-updated.csv\")\n",
    "delayed_flight.head(5)"
   ]
  },
  {
   "cell_type": "markdown",
   "id": "1714022b",
   "metadata": {},
   "source": [
    "#### Checking data types"
   ]
  },
  {
   "cell_type": "code",
   "execution_count": 3,
   "id": "670dcdba",
   "metadata": {},
   "outputs": [
    {
     "data": {
      "text/plain": [
       "Unnamed: 0             int64\n",
       "Year                   int64\n",
       "Month                  int64\n",
       "DayofMonth             int64\n",
       "DayOfWeek              int64\n",
       "DepTime                int64\n",
       "CRSDepTime             int64\n",
       "ArrTime              float64\n",
       "CRSArrTime             int64\n",
       "UniqueCarrier         object\n",
       "FlightNum              int64\n",
       "TailNum               object\n",
       "ActualElapsedTime    float64\n",
       "CRSElapsedTime         int64\n",
       "AirTime              float64\n",
       "ArrDelay             float64\n",
       "DepDelay               int64\n",
       "Origin                object\n",
       "Dest                  object\n",
       "Distance               int64\n",
       "TaxiIn               float64\n",
       "TaxiOut                int64\n",
       "Cancelled              int64\n",
       "CancellationCode      object\n",
       "Diverted               int64\n",
       "CarrierDelay         float64\n",
       "WeatherDelay         float64\n",
       "NASDelay             float64\n",
       "SecurityDelay        float64\n",
       "LateAircraftDelay    float64\n",
       "dtype: object"
      ]
     },
     "execution_count": 3,
     "metadata": {},
     "output_type": "execute_result"
    }
   ],
   "source": [
    "delayed_flight.dtypes"
   ]
  },
  {
   "cell_type": "markdown",
   "id": "c04913c2",
   "metadata": {},
   "source": [
    "#### Handling missing values"
   ]
  },
  {
   "cell_type": "code",
   "execution_count": 4,
   "id": "ba72c19b",
   "metadata": {},
   "outputs": [
    {
     "data": {
      "text/plain": [
       "Unnamed: 0             0\n",
       "Year                   0\n",
       "Month                  0\n",
       "DayofMonth             0\n",
       "DayOfWeek              0\n",
       "DepTime                0\n",
       "CRSDepTime             0\n",
       "ArrTime               10\n",
       "CRSArrTime             0\n",
       "UniqueCarrier          0\n",
       "FlightNum              0\n",
       "TailNum                0\n",
       "ActualElapsedTime     10\n",
       "CRSElapsedTime         0\n",
       "AirTime               10\n",
       "ArrDelay              10\n",
       "DepDelay               0\n",
       "Origin                 0\n",
       "Dest                   0\n",
       "Distance               0\n",
       "TaxiIn                10\n",
       "TaxiOut                0\n",
       "Cancelled              0\n",
       "CancellationCode       0\n",
       "Diverted               0\n",
       "CarrierDelay         240\n",
       "WeatherDelay         240\n",
       "NASDelay             240\n",
       "SecurityDelay        240\n",
       "LateAircraftDelay    240\n",
       "dtype: int64"
      ]
     },
     "execution_count": 4,
     "metadata": {},
     "output_type": "execute_result"
    }
   ],
   "source": [
    "delayed_flight.isna().sum()"
   ]
  },
  {
   "cell_type": "code",
   "execution_count": 5,
   "id": "16eefb45",
   "metadata": {},
   "outputs": [
    {
     "data": {
      "text/plain": [
       "(1000, 30)"
      ]
     },
     "execution_count": 5,
     "metadata": {},
     "output_type": "execute_result"
    }
   ],
   "source": [
    "delayed_flight.shape"
   ]
  },
  {
   "cell_type": "markdown",
   "id": "69e9e00a",
   "metadata": {},
   "source": [
    "##### Checking distributions to impute missing values"
   ]
  },
  {
   "cell_type": "code",
   "execution_count": 11,
   "id": "1beeec17",
   "metadata": {},
   "outputs": [
    {
     "name": "stderr",
     "output_type": "stream",
     "text": [
      "C:\\Users\\amalipe\\Anaconda3\\lib\\site-packages\\seaborn\\distributions.py:2619: FutureWarning: `distplot` is a deprecated function and will be removed in a future version. Please adapt your code to use either `displot` (a figure-level function with similar flexibility) or `histplot` (an axes-level function for histograms).\n",
      "  warnings.warn(msg, FutureWarning)\n"
     ]
    },
    {
     "data": {
      "image/png": "[encoded data removed]",
      "text/plain": [
       "<Figure size 432x288 with 1 Axes>"
      ]
     },
     "metadata": {
      "needs_background": "light"
     },
     "output_type": "display_data"
    }
   ],
   "source": [
    "sns.distplot(delayed_flight['CarrierDelay'])\n",
    "plt.show()"
   ]
  },
  {
   "cell_type": "code",
   "execution_count": 12,
   "id": "13864f81",
   "metadata": {},
   "outputs": [
    {
     "name": "stderr",
     "output_type": "stream",
     "text": [
      "C:\\Users\\amalipe\\Anaconda3\\lib\\site-packages\\seaborn\\distributions.py:2619: FutureWarning: `distplot` is a deprecated function and will be removed in a future version. Please adapt your code to use either `displot` (a figure-level function with similar flexibility) or `histplot` (an axes-level function for histograms).\n",
      "  warnings.warn(msg, FutureWarning)\n"
     ]
    },
    {
     "data": {
      "image/png": "[encoded data removed]",
      "text/plain": [
       "<Figure size 432x288 with 1 Axes>"
      ]
     },
     "metadata": {
      "needs_background": "light"
     },
     "output_type": "display_data"
    }
   ],
   "source": [
    "sns.distplot(delayed_flight['WeatherDelay'])\n",
    "plt.show()"
   ]
  },
  {
   "cell_type": "code",
   "execution_count": 13,
   "id": "174026f6",
   "metadata": {},
   "outputs": [
    {
     "name": "stderr",
     "output_type": "stream",
     "text": [
      "C:\\Users\\amalipe\\Anaconda3\\lib\\site-packages\\seaborn\\distributions.py:2619: FutureWarning: `distplot` is a deprecated function and will be removed in a future version. Please adapt your code to use either `displot` (a figure-level function with similar flexibility) or `histplot` (an axes-level function for histograms).\n",
      "  warnings.warn(msg, FutureWarning)\n"
     ]
    },
    {
     "data": {
      "image/png": "[encoded data removed]",
      "text/plain": [
       "<Figure size 432x288 with 1 Axes>"
      ]
     },
     "metadata": {
      "needs_background": "light"
     },
     "output_type": "display_data"
    }
   ],
   "source": [
    "sns.distplot(delayed_flight['NASDelay'])\n",
    "plt.show()"
   ]
  },
  {
   "cell_type": "code",
   "execution_count": 14,
   "id": "0c9c9a6c",
   "metadata": {},
   "outputs": [
    {
     "name": "stderr",
     "output_type": "stream",
     "text": [
      "C:\\Users\\amalipe\\Anaconda3\\lib\\site-packages\\seaborn\\distributions.py:2619: FutureWarning: `distplot` is a deprecated function and will be removed in a future version. Please adapt your code to use either `displot` (a figure-level function with similar flexibility) or `histplot` (an axes-level function for histograms).\n",
      "  warnings.warn(msg, FutureWarning)\n"
     ]
    },
    {
     "data": {
      "image/png": "[encoded data removed]",
      "text/plain": [
       "<Figure size 432x288 with 1 Axes>"
      ]
     },
     "metadata": {
      "needs_background": "light"
     },
     "output_type": "display_data"
    }
   ],
   "source": [
    "sns.distplot(delayed_flight['SecurityDelay'])\n",
    "plt.show()"
   ]
  },
  {
   "cell_type": "code",
   "execution_count": 15,
   "id": "fe06aa37",
   "metadata": {},
   "outputs": [
    {
     "name": "stderr",
     "output_type": "stream",
     "text": [
      "C:\\Users\\amalipe\\Anaconda3\\lib\\site-packages\\seaborn\\distributions.py:2619: FutureWarning: `distplot` is a deprecated function and will be removed in a future version. Please adapt your code to use either `displot` (a figure-level function with similar flexibility) or `histplot` (an axes-level function for histograms).\n",
      "  warnings.warn(msg, FutureWarning)\n"
     ]
    },
    {
     "data": {
      "image/png": "[encoded data removed]",
      "text/plain": [
       "<Figure size 432x288 with 1 Axes>"
      ]
     },
     "metadata": {
      "needs_background": "light"
     },
     "output_type": "display_data"
    }
   ],
   "source": [
    "sns.distplot(delayed_flight['LateAircraftDelay'])\n",
    "plt.show()"
   ]
  },
  {
   "cell_type": "markdown",
   "id": "2141710e",
   "metadata": {},
   "source": [
    "##### Imputing missing values with MEDIAN"
   ]
  },
  {
   "cell_type": "code",
   "execution_count": 6,
   "id": "cdc80d87",
   "metadata": {},
   "outputs": [],
   "source": [
    "delayed_flight[\"CarrierDelay\"] = delayed_flight[\"CarrierDelay\"].fillna(delayed_flight[\"CarrierDelay\"].median())\n",
    "delayed_flight[\"LateAircraftDelay\"] = delayed_flight[\"LateAircraftDelay\"].fillna(delayed_flight[\"LateAircraftDelay\"].median())\n",
    "delayed_flight[\"SecurityDelay\"] = delayed_flight[\"SecurityDelay\"].fillna(delayed_flight[\"SecurityDelay\"].median())\n",
    "delayed_flight[\"NASDelay\"] = delayed_flight[\"NASDelay\"].fillna(delayed_flight[\"NASDelay\"].median())\n",
    "delayed_flight[\"WeatherDelay\"] = delayed_flight[\"WeatherDelay\"].fillna(delayed_flight[\"WeatherDelay\"].median())"
   ]
  },
  {
   "cell_type": "code",
   "execution_count": 7,
   "id": "cbfb1230",
   "metadata": {},
   "outputs": [
    {
     "data": {
      "text/plain": [
       "Unnamed: 0            0\n",
       "Year                  0\n",
       "Month                 0\n",
       "DayofMonth            0\n",
       "DayOfWeek             0\n",
       "DepTime               0\n",
       "CRSDepTime            0\n",
       "ArrTime              10\n",
       "CRSArrTime            0\n",
       "UniqueCarrier         0\n",
       "FlightNum             0\n",
       "TailNum               0\n",
       "ActualElapsedTime    10\n",
       "CRSElapsedTime        0\n",
       "AirTime              10\n",
       "ArrDelay             10\n",
       "DepDelay              0\n",
       "Origin                0\n",
       "Dest                  0\n",
       "Distance              0\n",
       "TaxiIn               10\n",
       "TaxiOut               0\n",
       "Cancelled             0\n",
       "CancellationCode      0\n",
       "Diverted              0\n",
       "CarrierDelay          0\n",
       "WeatherDelay          0\n",
       "NASDelay              0\n",
       "SecurityDelay         0\n",
       "LateAircraftDelay     0\n",
       "dtype: int64"
      ]
     },
     "execution_count": 7,
     "metadata": {},
     "output_type": "execute_result"
    }
   ],
   "source": [
    "delayed_flight.isna().sum()"
   ]
  },
  {
   "cell_type": "markdown",
   "id": "3f2b2079",
   "metadata": {},
   "source": [
    "#### Duplicates"
   ]
  },
  {
   "cell_type": "code",
   "execution_count": 8,
   "id": "172419ab",
   "metadata": {},
   "outputs": [
    {
     "data": {
      "text/plain": [
       "0      False\n",
       "1      False\n",
       "2      False\n",
       "3      False\n",
       "4      False\n",
       "       ...  \n",
       "995    False\n",
       "996    False\n",
       "997    False\n",
       "998    False\n",
       "999    False\n",
       "Length: 1000, dtype: bool"
      ]
     },
     "execution_count": 8,
     "metadata": {},
     "output_type": "execute_result"
    }
   ],
   "source": [
    "delayed_flight.duplicated()"
   ]
  },
  {
   "cell_type": "code",
   "execution_count": 11,
   "id": "e65f5298",
   "metadata": {},
   "outputs": [
    {
     "data": {
      "text/plain": [
       "(0, 30)"
      ]
     },
     "execution_count": 11,
     "metadata": {},
     "output_type": "execute_result"
    }
   ],
   "source": [
    "duplicateRows = delayed_flight[delayed_flight.duplicated()]\n",
    "duplicateRows.shape"
   ]
  },
  {
   "cell_type": "markdown",
   "id": "651d300c",
   "metadata": {},
   "source": [
    "#### Copying to CSV"
   ]
  },
  {
   "cell_type": "code",
   "execution_count": 8,
   "id": "547b1150",
   "metadata": {},
   "outputs": [],
   "source": [
    "delayed_flight.to_csv(\"C:\\\\Users\\\\amalipe\\\\Downloads\\\\DelayedFlights-updated1.csv\")"
   ]
  },
  {
   "cell_type": "code",
   "execution_count": null,
   "id": "05495bef",
   "metadata": {},
   "outputs": [],
   "source": []
  }
 ],
 "metadata": {
  "kernelspec": {
   "display_name": "Python 3 (ipykernel)",
   "language": "python",
   "name": "python3"
  },
  "language_info": {
   "codemirror_mode": {
    "name": "ipython",
    "version": 3
   },
   "file_extension": ".py",
   "mimetype": "text/x-python",
   "name": "python",
   "nbconvert_exporter": "python",
   "pygments_lexer": "ipython3",
   "version": "3.9.7"
  }
 },
 "nbformat": 4,
 "nbformat_minor": 5
}
